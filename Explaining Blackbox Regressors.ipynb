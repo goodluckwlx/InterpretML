{
 "cells": [
  {
   "cell_type": "markdown",
   "metadata": {},
   "source": [
    "## Setup a regression experiment"
   ]
  },
  {
   "cell_type": "code",
   "execution_count": 1,
   "metadata": {},
   "outputs": [],
   "source": [
    "import pandas as pd\n",
    "from sklearn.datasets import load_boston\n",
    "from sklearn.model_selection import train_test_split\n",
    "\n",
    "boston = load_boston()\n",
    "feature_names = list(boston.feature_names)\n",
    "df = pd.DataFrame(boston.data, columns=feature_names)\n",
    "df[\"target\"] = boston.target\n",
    "# df = df.sample(frac=0.1, random_state=1)\n",
    "train_cols = df.columns[0:-1]\n",
    "label = df.columns[-1]\n",
    "X = df[train_cols]\n",
    "y = df[label]\n",
    "\n",
    "seed = 1\n",
    "X_train, X_test, y_train, y_test = train_test_split(X, y, test_size=0.20, random_state=seed)"
   ]
  },
  {
   "cell_type": "code",
   "execution_count": 2,
   "metadata": {},
   "outputs": [
    {
     "data": {
      "text/plain": [
       "CRIM       float64\n",
       "ZN         float64\n",
       "INDUS      float64\n",
       "CHAS       float64\n",
       "NOX        float64\n",
       "RM         float64\n",
       "AGE        float64\n",
       "DIS        float64\n",
       "RAD        float64\n",
       "TAX        float64\n",
       "PTRATIO    float64\n",
       "B          float64\n",
       "LSTAT      float64\n",
       "target     float64\n",
       "dtype: object"
      ]
     },
     "execution_count": 2,
     "metadata": {},
     "output_type": "execute_result"
    }
   ],
   "source": [
    "df.dtypes"
   ]
  },
  {
   "cell_type": "markdown",
   "metadata": {},
   "source": [
    "## Train a blackbox regression system"
   ]
  },
  {
   "cell_type": "code",
   "execution_count": 3,
   "metadata": {},
   "outputs": [
    {
     "data": {
      "text/plain": [
       "Pipeline(memory=None,\n",
       "     steps=[('pca', PCA(copy=True, iterated_power='auto', n_components=None, random_state=None,\n",
       "  svd_solver='auto', tol=0.0, whiten=False)), ('rf', RandomForestRegressor(bootstrap=True, criterion='mse', max_depth=None,\n",
       "           max_features='auto', max_leaf_nodes=None,\n",
       "           min_impurity_decrease...mators=100, n_jobs=-1,\n",
       "           oob_score=False, random_state=None, verbose=0, warm_start=False))])"
      ]
     },
     "execution_count": 3,
     "metadata": {},
     "output_type": "execute_result"
    }
   ],
   "source": [
    "from sklearn.ensemble import RandomForestRegressor\n",
    "from sklearn.decomposition import PCA\n",
    "from sklearn.pipeline import Pipeline\n",
    "\n",
    "#Blackbox system can include preprocessing, not just a regressor!\n",
    "pca = PCA()\n",
    "rf = RandomForestRegressor(n_estimators=100, n_jobs=-1)\n",
    "\n",
    "blackbox_model = Pipeline([('pca', pca), ('rf', rf)])\n",
    "blackbox_model.fit(X_train, y_train)"
   ]
  },
  {
   "cell_type": "markdown",
   "metadata": {},
   "source": [
    "## Show blackbox model performance"
   ]
  },
  {
   "cell_type": "code",
   "execution_count": 4,
   "metadata": {
    "scrolled": false
   },
   "outputs": [
    {
     "data": {
      "text/html": [
       "<!-- http://127.0.0.1:7337/2292943820728/ -->\n",
       "<iframe src=\"http://127.0.0.1:7337/2292943820728/\" width=100% height=800 frameBorder=\"0\"></iframe>"
      ]
     },
     "metadata": {},
     "output_type": "display_data"
    }
   ],
   "source": [
    "from interpret import show\n",
    "from interpret.perf import RegressionPerf\n",
    "\n",
    "blackbox_perf = RegressionPerf(blackbox_model.predict).explain_perf(X_test, y_test, name='Blackbox')\n",
    "show(blackbox_perf)"
   ]
  },
  {
   "cell_type": "markdown",
   "metadata": {},
   "source": [
    "## Local Explanations: How an individual prediction was made"
   ]
  },
  {
   "cell_type": "code",
   "execution_count": 5,
   "metadata": {
    "scrolled": false
   },
   "outputs": [
    {
     "data": {
      "text/html": [
       "<!-- http://127.0.0.1:7337/2293084818568/ -->\n",
       "<iframe src=\"http://127.0.0.1:7337/2293084818568/\" width=100% height=800 frameBorder=\"0\"></iframe>"
      ]
     },
     "metadata": {},
     "output_type": "display_data"
    }
   ],
   "source": [
    "from interpret.blackbox import LimeTabular\n",
    "from interpret import show\n",
    "\n",
    "#Blackbox explainers need a predict function, and optionally a dataset\n",
    "lime = LimeTabular(predict_fn=blackbox_model.predict, data=X_train, random_state=1)\n",
    "\n",
    "#Pick the instances to explain, optionally pass in labels if you have them\n",
    "lime_local = lime.explain_local(X_test[:5], y_test[:5], name='LIME')\n",
    "\n",
    "show(lime_local)"
   ]
  },
  {
   "cell_type": "code",
   "execution_count": 6,
   "metadata": {},
   "outputs": [
    {
     "name": "stderr",
     "output_type": "stream",
     "text": [
      "  0%|                                                                                            | 0/5 [00:00<?, ?it/s]C:\\Anaconda\\envs\\AzureML\\lib\\site-packages\\shap\\explainers\\kernel.py:545: UserWarning:\n",
      "\n",
      "l1_reg=\"auto\" is deprecated and in the next version (v0.29) the behavior will change from a conditional use of AIC to simply \"num_features(10)\"!\n",
      "\n",
      " 20%|████████████████▊                                                                   | 1/5 [00:00<00:01,  2.60it/s]C:\\Anaconda\\envs\\AzureML\\lib\\site-packages\\shap\\explainers\\kernel.py:545: UserWarning:\n",
      "\n",
      "l1_reg=\"auto\" is deprecated and in the next version (v0.29) the behavior will change from a conditional use of AIC to simply \"num_features(10)\"!\n",
      "\n",
      " 40%|█████████████████████████████████▌                                                  | 2/5 [00:00<00:01,  2.87it/s]C:\\Anaconda\\envs\\AzureML\\lib\\site-packages\\shap\\explainers\\kernel.py:545: UserWarning:\n",
      "\n",
      "l1_reg=\"auto\" is deprecated and in the next version (v0.29) the behavior will change from a conditional use of AIC to simply \"num_features(10)\"!\n",
      "\n",
      " 60%|██████████████████████████████████████████████████▍                                 | 3/5 [00:00<00:00,  3.08it/s]C:\\Anaconda\\envs\\AzureML\\lib\\site-packages\\shap\\explainers\\kernel.py:545: UserWarning:\n",
      "\n",
      "l1_reg=\"auto\" is deprecated and in the next version (v0.29) the behavior will change from a conditional use of AIC to simply \"num_features(10)\"!\n",
      "\n",
      " 80%|███████████████████████████████████████████████████████████████████▏                | 4/5 [00:01<00:00,  2.94it/s]C:\\Anaconda\\envs\\AzureML\\lib\\site-packages\\shap\\explainers\\kernel.py:545: UserWarning:\n",
      "\n",
      "l1_reg=\"auto\" is deprecated and in the next version (v0.29) the behavior will change from a conditional use of AIC to simply \"num_features(10)\"!\n",
      "\n",
      "100%|████████████████████████████████████████████████████████████████████████████████████| 5/5 [00:01<00:00,  3.19it/s]\n"
     ]
    },
    {
     "data": {
      "text/html": [
       "<!-- http://127.0.0.1:7337/2293084997784/ -->\n",
       "<iframe src=\"http://127.0.0.1:7337/2293084997784/\" width=100% height=800 frameBorder=\"0\"></iframe>"
      ]
     },
     "metadata": {},
     "output_type": "display_data"
    }
   ],
   "source": [
    "from interpret.blackbox import ShapKernel\n",
    "import numpy as np\n",
    "\n",
    "background_val = np.median(X_train, axis=0).reshape(1, -1)\n",
    "shap = ShapKernel(predict_fn=blackbox_model.predict, data=background_val, feature_names=feature_names)\n",
    "shap_local = shap.explain_local(X_test[:5], y_test[:5], name='SHAP')\n",
    "show(shap_local)"
   ]
  },
  {
   "cell_type": "markdown",
   "metadata": {},
   "source": [
    "## Global Explanations: How the model behaves overall"
   ]
  },
  {
   "cell_type": "code",
   "execution_count": 7,
   "metadata": {
    "scrolled": false
   },
   "outputs": [
    {
     "data": {
      "text/html": [
       "<!-- http://127.0.0.1:7337/2293101677312/ -->\n",
       "<iframe src=\"http://127.0.0.1:7337/2293101677312/\" width=100% height=800 frameBorder=\"0\"></iframe>"
      ]
     },
     "metadata": {},
     "output_type": "display_data"
    }
   ],
   "source": [
    "from interpret.blackbox import MorrisSensitivity\n",
    "\n",
    "sensitivity = MorrisSensitivity(predict_fn=blackbox_model.predict, data=X_train)\n",
    "sensitivity_global = sensitivity.explain_global(name=\"Global Sensitivity\")\n",
    "\n",
    "show(sensitivity_global)"
   ]
  },
  {
   "cell_type": "code",
   "execution_count": 8,
   "metadata": {},
   "outputs": [
    {
     "data": {
      "text/html": [
       "<!-- http://127.0.0.1:7337/2293036563088/ -->\n",
       "<iframe src=\"http://127.0.0.1:7337/2293036563088/\" width=100% height=800 frameBorder=\"0\"></iframe>"
      ]
     },
     "metadata": {},
     "output_type": "display_data"
    }
   ],
   "source": [
    "from interpret.blackbox import PartialDependence\n",
    "\n",
    "pdp = PartialDependence(predict_fn=blackbox_model.predict, data=X_train)\n",
    "pdp_global = pdp.explain_global(name='Partial Dependence')\n",
    "\n",
    "show(pdp_global)"
   ]
  },
  {
   "cell_type": "markdown",
   "metadata": {},
   "source": [
    "## Compare them all in the Dashboard"
   ]
  },
  {
   "cell_type": "code",
   "execution_count": 9,
   "metadata": {
    "scrolled": false
   },
   "outputs": [
    {
     "data": {
      "text/html": [
       "<!-- http://127.0.0.1:7337/2293103357704/ -->\n",
       "<a href=\"http://127.0.0.1:7337/2293103357704/\" target=\"_new\">Open in new window</a><iframe src=\"http://127.0.0.1:7337/2293103357704/\" width=100% height=800 frameBorder=\"0\"></iframe>"
      ]
     },
     "metadata": {},
     "output_type": "display_data"
    }
   ],
   "source": [
    "show([blackbox_perf, lime_local, shap_local, sensitivity_global, pdp_global])"
   ]
  },
  {
   "cell_type": "code",
   "execution_count": null,
   "metadata": {},
   "outputs": [],
   "source": []
  }
 ],
 "metadata": {
  "kernelspec": {
   "display_name": "Python [conda env:AzureML]",
   "language": "python",
   "name": "conda-env-AzureML-py"
  },
  "language_info": {
   "codemirror_mode": {
    "name": "ipython",
    "version": 3
   },
   "file_extension": ".py",
   "mimetype": "text/x-python",
   "name": "python",
   "nbconvert_exporter": "python",
   "pygments_lexer": "ipython3",
   "version": "3.6.8"
  }
 },
 "nbformat": 4,
 "nbformat_minor": 2
}
